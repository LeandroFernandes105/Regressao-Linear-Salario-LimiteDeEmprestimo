{
 "cells": [
  {
   "cell_type": "markdown",
   "metadata": {},
   "source": [
    "[Abrir no Google Colab](https://colab.research.google.com/drive/1n8k49HlUKpwaJYRcHKuGl1_5fUelNyWe#scrollTo=kl12UKhTsHzZ)"
   ]
  },
  {
   "cell_type": "code",
   "execution_count": null,
   "metadata": {},
   "outputs": [],
   "source": [
    "\n",
    "#Bibliotecas\n",
    "import pandas as pd\n",
    "import numpy as np\n",
    "import matplotlib.pyplot as plt\n",
    "import seaborn as sns   #função parecida com \n",
    "import pandas as pd\n",
    "from sklearn.metrics import mean_squared_error, r2_score\n",
    "from sklearn.linear_model import LinearRegression\n",
    "# Essa biblioteca vai dividir os dados em dados de teste e de treino \n",
    "from sklearn.model_selection import train_test_split\n",
    "\n"
   ]
  },
  {
   "cell_type": "code",
   "execution_count": 2,
   "metadata": {},
   "outputs": [
    {
     "data": {
      "text/html": [
       "<div>\n",
       "<style scoped>\n",
       "    .dataframe tbody tr th:only-of-type {\n",
       "        vertical-align: middle;\n",
       "    }\n",
       "\n",
       "    .dataframe tbody tr th {\n",
       "        vertical-align: top;\n",
       "    }\n",
       "\n",
       "    .dataframe thead th {\n",
       "        text-align: right;\n",
       "    }\n",
       "</style>\n",
       "<table border=\"1\" class=\"dataframe\">\n",
       "  <thead>\n",
       "    <tr style=\"text-align: right;\">\n",
       "      <th></th>\n",
       "      <th>Salario</th>\n",
       "      <th>Limite_Emprestimo</th>\n",
       "    </tr>\n",
       "  </thead>\n",
       "  <tbody>\n",
       "    <tr>\n",
       "      <th>0</th>\n",
       "      <td>1250.219130</td>\n",
       "      <td>2900.124323</td>\n",
       "    </tr>\n",
       "    <tr>\n",
       "      <th>1</th>\n",
       "      <td>1262.721321</td>\n",
       "      <td>2929.125566</td>\n",
       "    </tr>\n",
       "    <tr>\n",
       "      <th>2</th>\n",
       "      <td>1275.348535</td>\n",
       "      <td>2958.416822</td>\n",
       "    </tr>\n",
       "    <tr>\n",
       "      <th>3</th>\n",
       "      <td>1288.102020</td>\n",
       "      <td>2988.000990</td>\n",
       "    </tr>\n",
       "    <tr>\n",
       "      <th>4</th>\n",
       "      <td>1300.983040</td>\n",
       "      <td>3017.881000</td>\n",
       "    </tr>\n",
       "    <tr>\n",
       "      <th>...</th>\n",
       "      <td>...</td>\n",
       "      <td>...</td>\n",
       "    </tr>\n",
       "    <tr>\n",
       "      <th>94</th>\n",
       "      <td>3185.629581</td>\n",
       "      <td>7279.937858</td>\n",
       "    </tr>\n",
       "    <tr>\n",
       "      <th>95</th>\n",
       "      <td>3217.485877</td>\n",
       "      <td>7315.799621</td>\n",
       "    </tr>\n",
       "    <tr>\n",
       "      <th>96</th>\n",
       "      <td>3249.660736</td>\n",
       "      <td>7351.661384</td>\n",
       "    </tr>\n",
       "    <tr>\n",
       "      <th>97</th>\n",
       "      <td>3282.157343</td>\n",
       "      <td>7387.523147</td>\n",
       "    </tr>\n",
       "    <tr>\n",
       "      <th>98</th>\n",
       "      <td>3314.978916</td>\n",
       "      <td>7423.384910</td>\n",
       "    </tr>\n",
       "  </tbody>\n",
       "</table>\n",
       "<p>99 rows × 2 columns</p>\n",
       "</div>"
      ],
      "text/plain": [
       "        Salario  Limite_Emprestimo\n",
       "0   1250.219130        2900.124323\n",
       "1   1262.721321        2929.125566\n",
       "2   1275.348535        2958.416822\n",
       "3   1288.102020        2988.000990\n",
       "4   1300.983040        3017.881000\n",
       "..          ...                ...\n",
       "94  3185.629581        7279.937858\n",
       "95  3217.485877        7315.799621\n",
       "96  3249.660736        7351.661384\n",
       "97  3282.157343        7387.523147\n",
       "98  3314.978916        7423.384910\n",
       "\n",
       "[99 rows x 2 columns]"
      ]
     },
     "execution_count": 2,
     "metadata": {},
     "output_type": "execute_result"
    }
   ],
   "source": [
    "Dados =pd.read_excel('BaseDados_RegressaoLinear.xlsx')\n",
    "Dados\n",
    "\n",
    "\n"
   ]
  },
  {
   "cell_type": "code",
   "execution_count": 271,
   "metadata": {},
   "outputs": [
    {
     "data": {
      "text/html": [
       "<div>\n",
       "<style scoped>\n",
       "    .dataframe tbody tr th:only-of-type {\n",
       "        vertical-align: middle;\n",
       "    }\n",
       "\n",
       "    .dataframe tbody tr th {\n",
       "        vertical-align: top;\n",
       "    }\n",
       "\n",
       "    .dataframe thead th {\n",
       "        text-align: right;\n",
       "    }\n",
       "</style>\n",
       "<table border=\"1\" class=\"dataframe\">\n",
       "  <thead>\n",
       "    <tr style=\"text-align: right;\">\n",
       "      <th></th>\n",
       "      <th>Salario</th>\n",
       "      <th>Limite_Emprestimo</th>\n",
       "    </tr>\n",
       "  </thead>\n",
       "  <tbody>\n",
       "    <tr>\n",
       "      <th>0</th>\n",
       "      <td>1250.219130</td>\n",
       "      <td>2900.124323</td>\n",
       "    </tr>\n",
       "    <tr>\n",
       "      <th>1</th>\n",
       "      <td>1262.721321</td>\n",
       "      <td>2929.125566</td>\n",
       "    </tr>\n",
       "    <tr>\n",
       "      <th>2</th>\n",
       "      <td>1275.348535</td>\n",
       "      <td>2958.416822</td>\n",
       "    </tr>\n",
       "    <tr>\n",
       "      <th>3</th>\n",
       "      <td>1288.102020</td>\n",
       "      <td>2988.000990</td>\n",
       "    </tr>\n",
       "    <tr>\n",
       "      <th>4</th>\n",
       "      <td>1300.983040</td>\n",
       "      <td>3017.881000</td>\n",
       "    </tr>\n",
       "  </tbody>\n",
       "</table>\n",
       "</div>"
      ],
      "text/plain": [
       "       Salario  Limite_Emprestimo\n",
       "0  1250.219130        2900.124323\n",
       "1  1262.721321        2929.125566\n",
       "2  1275.348535        2958.416822\n",
       "3  1288.102020        2988.000990\n",
       "4  1300.983040        3017.881000"
      ]
     },
     "execution_count": 271,
     "metadata": {},
     "output_type": "execute_result"
    }
   ],
   "source": [
    "#Mostra os 5 primeiros registros \n",
    "Dados.head()  \n"
   ]
  },
  {
   "cell_type": "code",
   "execution_count": 272,
   "metadata": {},
   "outputs": [
    {
     "data": {
      "text/html": [
       "<div>\n",
       "<style scoped>\n",
       "    .dataframe tbody tr th:only-of-type {\n",
       "        vertical-align: middle;\n",
       "    }\n",
       "\n",
       "    .dataframe tbody tr th {\n",
       "        vertical-align: top;\n",
       "    }\n",
       "\n",
       "    .dataframe thead th {\n",
       "        text-align: right;\n",
       "    }\n",
       "</style>\n",
       "<table border=\"1\" class=\"dataframe\">\n",
       "  <thead>\n",
       "    <tr style=\"text-align: right;\">\n",
       "      <th></th>\n",
       "      <th>Salario</th>\n",
       "      <th>Limite_Emprestimo</th>\n",
       "    </tr>\n",
       "  </thead>\n",
       "  <tbody>\n",
       "    <tr>\n",
       "      <th>94</th>\n",
       "      <td>3185.629581</td>\n",
       "      <td>7279.937858</td>\n",
       "    </tr>\n",
       "    <tr>\n",
       "      <th>95</th>\n",
       "      <td>3217.485877</td>\n",
       "      <td>7315.799621</td>\n",
       "    </tr>\n",
       "    <tr>\n",
       "      <th>96</th>\n",
       "      <td>3249.660736</td>\n",
       "      <td>7351.661384</td>\n",
       "    </tr>\n",
       "    <tr>\n",
       "      <th>97</th>\n",
       "      <td>3282.157343</td>\n",
       "      <td>7387.523147</td>\n",
       "    </tr>\n",
       "    <tr>\n",
       "      <th>98</th>\n",
       "      <td>3314.978916</td>\n",
       "      <td>7423.384910</td>\n",
       "    </tr>\n",
       "  </tbody>\n",
       "</table>\n",
       "</div>"
      ],
      "text/plain": [
       "        Salario  Limite_Emprestimo\n",
       "94  3185.629581        7279.937858\n",
       "95  3217.485877        7315.799621\n",
       "96  3249.660736        7351.661384\n",
       "97  3282.157343        7387.523147\n",
       "98  3314.978916        7423.384910"
      ]
     },
     "execution_count": 272,
     "metadata": {},
     "output_type": "execute_result"
    }
   ],
   "source": [
    "#Mostra os 5 ultimos registros, se colocar 15 entre () vai mostrar os ultimos 15 registros \n",
    "Dados.tail()  \n"
   ]
  },
  {
   "cell_type": "code",
   "execution_count": 273,
   "metadata": {},
   "outputs": [
    {
     "data": {
      "text/plain": [
       "Index(['Salario', 'Limite_Emprestimo'], dtype='object')"
      ]
     },
     "execution_count": 273,
     "metadata": {},
     "output_type": "execute_result"
    }
   ],
   "source": [
    "# Mostra o nome das colunas \n",
    "Dados.columns    "
   ]
  },
  {
   "cell_type": "code",
   "execution_count": 274,
   "metadata": {},
   "outputs": [
    {
     "name": "stdout",
     "output_type": "stream",
     "text": [
      "<class 'pandas.core.frame.DataFrame'>\n",
      "RangeIndex: 99 entries, 0 to 98\n",
      "Data columns (total 2 columns):\n",
      " #   Column             Non-Null Count  Dtype  \n",
      "---  ------             --------------  -----  \n",
      " 0   Salario            99 non-null     float64\n",
      " 1   Limite_Emprestimo  99 non-null     float64\n",
      "dtypes: float64(2)\n",
      "memory usage: 1.7 KB\n"
     ]
    }
   ],
   "source": [
    "#Lista todas as coluans da base de dados, quantidade de valores, se tem valor nulo, formato do campo  \n",
    "Dados.info()"
   ]
  },
  {
   "cell_type": "code",
   "execution_count": 7,
   "metadata": {},
   "outputs": [
    {
     "data": {
      "text/html": [
       "<div>\n",
       "<style scoped>\n",
       "    .dataframe tbody tr th:only-of-type {\n",
       "        vertical-align: middle;\n",
       "    }\n",
       "\n",
       "    .dataframe tbody tr th {\n",
       "        vertical-align: top;\n",
       "    }\n",
       "\n",
       "    .dataframe thead th {\n",
       "        text-align: right;\n",
       "    }\n",
       "</style>\n",
       "<table border=\"1\" class=\"dataframe\">\n",
       "  <thead>\n",
       "    <tr style=\"text-align: right;\">\n",
       "      <th></th>\n",
       "      <th>Salario</th>\n",
       "      <th>Limite_Emprestimo</th>\n",
       "    </tr>\n",
       "  </thead>\n",
       "  <tbody>\n",
       "    <tr>\n",
       "      <th>count</th>\n",
       "      <td>99.000000</td>\n",
       "      <td>99.000000</td>\n",
       "    </tr>\n",
       "    <tr>\n",
       "      <th>mean</th>\n",
       "      <td>2119.100581</td>\n",
       "      <td>4900.652060</td>\n",
       "    </tr>\n",
       "    <tr>\n",
       "      <th>std</th>\n",
       "      <td>600.832983</td>\n",
       "      <td>1378.113961</td>\n",
       "    </tr>\n",
       "    <tr>\n",
       "      <th>min</th>\n",
       "      <td>1250.219130</td>\n",
       "      <td>2900.124323</td>\n",
       "    </tr>\n",
       "    <tr>\n",
       "      <th>25%</th>\n",
       "      <td>1595.383780</td>\n",
       "      <td>3700.800280</td>\n",
       "    </tr>\n",
       "    <tr>\n",
       "      <th>50%</th>\n",
       "      <td>2035.792243</td>\n",
       "      <td>4722.412623</td>\n",
       "    </tr>\n",
       "    <tr>\n",
       "      <th>75%</th>\n",
       "      <td>2597.840528</td>\n",
       "      <td>6026.191986</td>\n",
       "    </tr>\n",
       "    <tr>\n",
       "      <th>max</th>\n",
       "      <td>3314.978916</td>\n",
       "      <td>7423.384910</td>\n",
       "    </tr>\n",
       "  </tbody>\n",
       "</table>\n",
       "</div>"
      ],
      "text/plain": [
       "           Salario  Limite_Emprestimo\n",
       "count    99.000000          99.000000\n",
       "mean   2119.100581        4900.652060\n",
       "std     600.832983        1378.113961\n",
       "min    1250.219130        2900.124323\n",
       "25%    1595.383780        3700.800280\n",
       "50%    2035.792243        4722.412623\n",
       "75%    2597.840528        6026.191986\n",
       "max    3314.978916        7423.384910"
      ]
     },
     "execution_count": 7,
     "metadata": {},
     "output_type": "execute_result"
    }
   ],
   "source": [
    "\n",
    "#Gera uma tabela estatistica com base nos dados \n",
    "Dados.describe()"
   ]
  },
  {
   "cell_type": "markdown",
   "metadata": {},
   "source": [
    "\n",
    "### Estatísticas Descritivas\n",
    "\n",
    "- **`count`**: Refere-se à quantidade de **registros** na base de dados. Ele indica quantas observações ou entradas existem na coluna.\n",
    "\n",
    "- **`mean`**: A **média** dos valores da coluna. Ela é calculada somando todos os valores e dividindo pelo número de observações.\n",
    "\n",
    "- **`std`**: O **desvio padrão**. Ele indica o quanto os valores da variável estão **desviando** da média. No seu caso, o **salário** está se desviando **600 reais** da média, tanto para cima quanto para baixo.\n",
    "\n",
    "- **`min`**: O **valor mínimo**. Este é o menor valor presente na coluna.\n",
    "\n",
    "- **`25%`**: Representa o **percentil 25%**. Isso significa que **25%** dos dados têm valores até esse ponto. Por exemplo, 25% dos salários são menores ou iguais a **1595 reais**.\n",
    "\n",
    "- **`50%`**: A **mediana**. A mediana é o valor que separa os **50% menores** dos **50% maiores**. No seu caso, a mediana dos salários é **2035 reais**.\n",
    "\n",
    "- **`75%`**: Representa o **percentil 75%** (ou terceiro quartil). Isso significa que **75%** dos dados têm valores menores ou iguais a esse ponto. Por exemplo, 75% dos salários são menores ou iguais a **2597 reais.**\n",
    "\n",
    "- **`max`**: O **valor máximo**. Este é o maior valor presente na coluna.\n",
    "\n",
    "---\n",
    "\n"
   ]
  },
  {
   "cell_type": "code",
   "execution_count": 3,
   "metadata": {},
   "outputs": [],
   "source": [
    "#Converter para um array\n",
    "#iloc é para selecionar pedaços da base de dados [linha,coluna]\n",
    "#.values faz a converção para um array\n",
    "Eixo_x= Dados.iloc[:,0].values\n",
    "Eixo_y= Dados.iloc[:,1].values"
   ]
  },
  {
   "cell_type": "code",
   "execution_count": 277,
   "metadata": {},
   "outputs": [
    {
     "data": {
      "text/plain": [
       "array([1250.21913   , 1262.7213213 , 1275.34853451, 1288.10201986,\n",
       "       1300.98304006, 1313.99287046, 1327.13279916, 1340.40412715,\n",
       "       1353.80816843, 1367.34625011, 1381.01971261, 1394.82990974,\n",
       "       1408.77820883, 1422.86599092, 1437.09465083, 1451.46559734,\n",
       "       1465.98025331, 1480.64005585, 1495.4464564 , 1510.40092097,\n",
       "       1525.50493018, 1540.75997948, 1556.16757927, 1571.72925507,\n",
       "       1587.44654762, 1603.32101309, 1619.35422323, 1635.54776546,\n",
       "       1651.90324311, 1668.42227554, 1685.1064983 , 1701.95756328,\n",
       "       1718.97713891, 1736.1669103 , 1753.52857941, 1771.0638652 ,\n",
       "       1788.77450385, 1806.66224889, 1824.72887138, 1842.97616009,\n",
       "       1861.4059217 , 1880.01998091, 1898.82018072, 1917.80838253,\n",
       "       1936.98646635, 1956.35633102, 1975.91989433, 1995.67909327,\n",
       "       2015.6358842 , 2035.79224305, 2056.15016548, 2076.71166713,\n",
       "       2097.4787838 , 2118.45357164, 2139.63810736, 2161.03448843,\n",
       "       2182.64483331, 2204.47128165, 2226.51599446, 2248.78115441,\n",
       "       2271.26896595, 2293.98165561, 2316.92147217, 2340.09068689,\n",
       "       2363.49159376, 2387.1265097 , 2410.99777479, 2435.10775254,\n",
       "       2459.45883007, 2484.05341837, 2508.89395255, 2533.98289208,\n",
       "       2559.322721  , 2584.91594821, 2610.76510769, 2636.87275877,\n",
       "       2663.24148635, 2689.87390122, 2716.77264023, 2743.94036663,\n",
       "       2771.3797703 , 2799.093568  , 2827.08450368, 2855.35534872,\n",
       "       2883.90890221, 2912.74799123, 2941.87547114, 2971.29422585,\n",
       "       3001.00716811, 3031.01723979, 3061.32741219, 3091.94068631,\n",
       "       3122.86009317, 3154.08869411, 3185.62958105, 3217.48587686,\n",
       "       3249.66073563, 3282.15734298, 3314.97891641])"
      ]
     },
     "execution_count": 277,
     "metadata": {},
     "output_type": "execute_result"
    }
   ],
   "source": [
    "Eixo_x"
   ]
  },
  {
   "cell_type": "code",
   "execution_count": 278,
   "metadata": {},
   "outputs": [
    {
     "data": {
      "text/plain": [
       "array([2900.124323  , 2929.12556623, 2958.41682189, 2988.00099011,\n",
       "       3017.88100001, 3048.05981001, 3078.54040811, 3109.32581219,\n",
       "       3140.41907032, 3171.82326102, 3203.54149363, 3235.57690857,\n",
       "       3267.93267765, 3300.61200443, 3333.61812447, 3366.95430572,\n",
       "       3400.62384877, 3434.63008726, 3434.63008726, 3434.63008726,\n",
       "       3434.63008726, 3574.08984167, 3609.83074009, 3645.92904749,\n",
       "       3682.38833796, 3719.21222134, 3756.40434356, 3793.96838699,\n",
       "       3831.90807086, 3870.22715157, 3870.22715157, 3870.22715157,\n",
       "       3870.22715157, 4027.37389354, 4067.64763247, 4108.3241088 ,\n",
       "       4149.40734988, 4190.90142338, 4232.81043762, 4275.13854199,\n",
       "       4317.88992741, 4361.06882669, 4404.67951495, 4448.7263101 ,\n",
       "       4493.2135732 , 4538.14570894, 4583.52716602, 4629.36243768,\n",
       "       4675.65606206, 4722.41262268, 4769.63674891, 4817.3331164 ,\n",
       "       4865.50644756, 4914.16151204, 4963.30312716, 5012.93615843,\n",
       "       5063.06552001, 5113.69617521, 5164.83313697, 5216.48146834,\n",
       "       5268.64628302, 5321.33274585, 5374.54607331, 5428.29153404,\n",
       "       5482.57444938, 5537.40019388, 5592.77419581, 5648.70193777,\n",
       "       5705.18895715, 5762.24084672, 5819.86325519, 5878.06188774,\n",
       "       5936.84250662, 5996.21093168, 6056.173041  , 6116.73477141,\n",
       "       6177.90211913, 6239.68114032, 6302.07795172, 6365.09873124,\n",
       "       6428.74971855, 6493.03721573, 6557.96758789, 6623.54726377,\n",
       "       6689.78273641, 6756.68056377, 6824.24736941, 6892.4898431 ,\n",
       "       6961.41474154, 7031.02888895, 7101.33917784, 7172.35256962,\n",
       "       7208.21433247, 7244.07609532, 7279.93785816, 7315.79962101,\n",
       "       7351.66138386, 7387.52314671, 7423.38490956])"
      ]
     },
     "execution_count": 278,
     "metadata": {},
     "output_type": "execute_result"
    }
   ],
   "source": [
    "Eixo_y"
   ]
  },
  {
   "cell_type": "markdown",
   "metadata": {},
   "source": []
  },
  {
   "cell_type": "code",
   "execution_count": 279,
   "metadata": {},
   "outputs": [
    {
     "data": {
      "text/plain": [
       "Salario              0\n",
       "Limite_Emprestimo    0\n",
       "dtype: int64"
      ]
     },
     "execution_count": 279,
     "metadata": {},
     "output_type": "execute_result"
    }
   ],
   "source": [
    "#Verificar se existe campos nulos\n",
    "Dados.isnull().sum()\n"
   ]
  },
  {
   "cell_type": "code",
   "execution_count": 280,
   "metadata": {},
   "outputs": [
    {
     "data": {
      "text/plain": [
       "np.int64(0)"
      ]
     },
     "execution_count": 280,
     "metadata": {},
     "output_type": "execute_result"
    }
   ],
   "source": [
    "#Verificar se existem campos duplicados\n",
    "Dados.duplicated().sum()"
   ]
  },
  {
   "cell_type": "code",
   "execution_count": 282,
   "metadata": {},
   "outputs": [
    {
     "data": {
      "image/png": "[encoded data removed]",
      "text/plain": [
       "<Figure size 1100x600 with 1 Axes>"
      ]
     },
     "metadata": {},
     "output_type": "display_data"
    }
   ],
   "source": [
    "#scatter é função de um gráfico\n",
    "plt.figure(figsize=(11,6))\n",
    "plt.scatter(Eixo_x,Eixo_y);\n",
    "# coloca ; no fim para remover o nome  <matplotlib.collections.PathCollection at 0x1f95aa24190>\n",
    "plt.title('Gráfico da relação entre o salário e Limite  de empréstimo do cliente.')\n",
    "plt.xlabel('Salário')\n",
    "plt.ylabel('Limite do empréstimo');"
   ]
  },
  {
   "cell_type": "markdown",
   "metadata": {},
   "source": [
    "# ANÁLISE EXPLORATÓRIA DE DADOS"
   ]
  },
  {
   "cell_type": "code",
   "execution_count": 283,
   "metadata": {},
   "outputs": [
    {
     "data": {
      "image/png": "[encoded data removed]",
      "text/plain": [
       "<Figure size 1100x600 with 2 Axes>"
      ]
     },
     "metadata": {},
     "output_type": "display_data"
    }
   ],
   "source": [
    "plt.figure(figsize=(11,6))\n",
    "sns.heatmap(Dados.isnull());\n",
    "#isnull detecta qualquer valor nulo, se tivesse algum ia ter um risco branco no gráfico\n"
   ]
  },
  {
   "cell_type": "markdown",
   "metadata": {},
   "source": [
    "\n",
    "---\n",
    "\n",
    "Heatmap permite identificar de forma rápida e visual quais colunas e linhas do seu conjunto de dados têm valores ausentes, facilitando a análise e o tratamento dos dados nulos.\n",
    "\n",
    "---"
   ]
  },
  {
   "cell_type": "code",
   "execution_count": 268,
   "metadata": {},
   "outputs": [
    {
     "data": {
      "image/png": "[encoded data removed]",
      "text/plain": [
       "<Figure size 640x480 with 1 Axes>"
      ]
     },
     "metadata": {},
     "output_type": "display_data"
    }
   ],
   "source": [
    "import seaborn as sns\n",
    "import matplotlib.pyplot as plt\n",
    "\n",
    "# Criando o boxplot e configurando a aparência dos outliers\n",
    "sns.boxplot(data=Dados, flierprops=dict(marker='o', color='red', markersize=8))  # Personalizando os outliers\n",
    "plt.xticks(rotation=90)  # Rotacionar os labels do eixo x\n",
    "plt.title('Boxplot com Outliers')\n",
    "plt.show()"
   ]
  },
  {
   "cell_type": "markdown",
   "metadata": {},
   "source": [
    "\n",
    "  \n",
    "## Quartis e Bigodes no Boxplot\n",
    "\n",
    "1. **Q1 (Primeiro Quartil ou 25º Percentil)**:\n",
    "   Este quartil divide os **25%** inferiores dos dados. Ou seja, **25% dos dados** estão abaixo de **Q1**. Em um boxplot, ele é representado pela **borda inferior da caixa**.\n",
    "\n",
    "2. **Q2 (Mediana ou 50º Percentil)**:\n",
    "   A **mediana** divide os dados ao meio. **50% dos dados** estão abaixo da mediana e **50% estão acima**. Em um boxplot, a mediana é representada pela **linha dentro da caixa**.\n",
    "\n",
    "3. **Q3 (Terceiro Quartil ou 75º Percentil)**:\n",
    "   Este quartil divide os **25%** superiores dos dados. Ou seja, **75% dos dados** estão abaixo de **Q3**. No boxplot, ele é representado pela **borda superior da caixa**.\n",
    "\n",
    "4. **Bigodes (Limites Inferior e Superior)**:\n",
    "   Os **bigodes** do boxplot se estendem desde a borda da caixa até o valor máximo e mínimo dentro de um limite aceitável. Esse limite é normalmente definido como **1.5 vezes o intervalo interquartil (IQR)**, onde **IQR = Q3 - Q1**.\n",
    "   \n",
    "   - **Limite inferior**: \n",
    "     \\[\n",
    "     Q1 - 1.5 \\times IQR\n",
    "     \\]\n",
    "   \n",
    "   - **Limite superior**: \n",
    "     \\[\n",
    "     Q3 + 1.5 \\times IQR\n",
    "     \\]\n",
    "\n",
    "As linhas que se estendem da caixa são chamadas de **bigodes**. Elas geralmente se estendem até o valor mais distante que não é considerado um **outlier**.\n",
    "\n",
    "Se **não há outliers** no boxplot, significa que todos os pontos de dados estão dentro dos limites estabelecidos pelos bigodes."
   ]
  },
  {
   "cell_type": "code",
   "execution_count": null,
   "metadata": {},
   "outputs": [
    {
     "data": {
      "text/plain": [
       "<seaborn.axisgrid.PairGrid at 0x2389ced2580>"
      ]
     },
     "metadata": {},
     "output_type": "display_data"
    },
    {
     "data": {
      "image/png": "[encoded data removed]",
      "text/plain": [
       "<Figure size 500x500 with 6 Axes>"
      ]
     },
     "metadata": {},
     "output_type": "display_data"
    }
   ],
   "source": [
    "sns.pairplot(Dados)\n",
    "# Se a base de dados for muito grande ele demora para rodar \n",
    "#pega toda a base de dados e faz um gráfico de dois eixo  para todas as variáveis do seu gráfico "
   ]
  },
  {
   "cell_type": "code",
   "execution_count": 7,
   "metadata": {},
   "outputs": [
    {
     "data": {
      "text/plain": [
       "array([[1.        , 0.99949773],\n",
       "       [0.99949773, 1.        ]])"
      ]
     },
     "execution_count": 7,
     "metadata": {},
     "output_type": "execute_result"
    }
   ],
   "source": [
    "#corrcoef mostra a correlação entre variáveis\n",
    "Correlacao=np.corrcoef(Eixo_x,Eixo_y)\n",
    "Correlacao\n",
    "#Correlação de 0.99"
   ]
  },
  {
   "cell_type": "markdown",
   "metadata": {},
   "source": [
    "### Correlação próxima de 1\n",
    "\n",
    "Uma correlação próxima de **1** significa que a relação entre as variáveis é **forte e positiva**. Ou seja:\n",
    "\n",
    "- **Correlação forte**: As variáveis têm uma relação linear clara e significativa.\n",
    "- **Correlação positiva**: Quando uma variável aumenta, a outra também tende a aumentar de forma proporcional.\n",
    "\n",
    "Por exemplo, se temos uma variável **X** (como \"salário\") e uma variável **Y** (como \"limite de crédito\"), uma correlação próxima de 1 indicaria que, à medida que o salário aumenta, o limite de crédito também tende a aumentar de forma previsível e proporcional.\n"
   ]
  },
  {
   "cell_type": "code",
   "execution_count": null,
   "metadata": {},
   "outputs": [
    {
     "data": {
      "image/png": "[encoded data removed]",
      "text/plain": [
       "<Figure size 1000x500 with 2 Axes>"
      ]
     },
     "metadata": {},
     "output_type": "display_data"
    }
   ],
   "source": [
    "\n",
    "#annot=true é para mostrar os valores no meio do gráfico\n",
    "#arredondo a correlação apra 1 \n",
    "correlacao = df.corr()\n",
    "plt.figure(figsize=(10, 5))\n",
    "sns.heatmap(correlacao, annot=True, cmap='YlOrRd')\n",
    "plt.show()"
   ]
  },
  {
   "cell_type": "markdown",
   "metadata": {},
   "source": [
    "## Divisão dos Dados e Treinamento do Modelo\n",
    "\n",
    "Antes de treinar o modelo, é importante dividir os dados em conjuntos de **treinamento** e **teste**. A divisão garante que o modelo seja treinado em uma parte dos dados e avaliado em outra parte, evitando overfitting e permitindo uma melhor generalização.\n",
    "\n",
    "### Passos para a Divisão dos Dados:\n",
    "\n",
    "1. **Dividir os dados em variáveis independentes (X) e dependentes (Y)**:\n",
    "   - `X` é a variável independente  (`Salario`).\n",
    "   - `Y` é a variável dependente  (`Limite_Emprestimo`).\n",
    "\n",
    "2. **Dividir os dados em conjunto de treinamento e teste**:\n",
    "   - Utilizamos a função `train_test_split` para dividir os dados em dois conjuntos: **75% para treinamento** e **25% para teste**.\n"
   ]
  },
  {
   "cell_type": "code",
   "execution_count": null,
   "metadata": {},
   "outputs": [],
   "source": [
    "\n",
    "\n",
    "x_treino,x_teste,y_treino,y_teste= train_test_split(\n",
    "    Eixo_x,\n",
    "    Eixo_y,\n",
    "    random_state=15, #é para garantir que sempre vai passar as mesmas linas para treinar o model, pode ser qualquer número\n",
    "    test_size=0.75 # 25% dos dados vai ser usado para teste e 75% para \n",
    "    \n",
    ")\n",
    "\n"
   ]
  },
  {
   "cell_type": "code",
   "execution_count": 5,
   "metadata": {},
   "outputs": [
    {
     "name": "stdout",
     "output_type": "stream",
     "text": [
      "24 75\n"
     ]
    }
   ],
   "source": [
    "print(len(x_treino), len(x_teste))\n",
    "#Tinha 99 linhas, agora tem 74 linhas para treino e 25 para teste "
   ]
  },
  {
   "cell_type": "code",
   "execution_count": 18,
   "metadata": {},
   "outputs": [],
   "source": [
    "#reshape vai converter para formado de matriz, estava em formato de lista \n",
    "Eixo_x=Eixo_x.reshape(-1,1) #  o -1 é para indicar que não quer que use as linhas, só as colunas \n",
    "Eixo_y=Eixo_y.reshape(-1,1)\n"
   ]
  },
  {
   "cell_type": "code",
   "execution_count": null,
   "metadata": {},
   "outputs": [
    {
     "name": "stdout",
     "output_type": "stream",
     "text": [
      "R$ 4.163,61\n"
     ]
    }
   ],
   "source": [
    "\n",
    "\n",
    "Func_Regressao = LinearRegression()\n",
    "\n",
    "#fit é para passar os dados para a função de regressão linear\n",
    "Func_Regressao.fit(x_treino,y_treino)\n"
   ]
  },
  {
   "cell_type": "code",
   "execution_count": 28,
   "metadata": {},
   "outputs": [],
   "source": [
    "#Criação da variável Previsõoes\n",
    "Previsoes =Func_Regressao.predict(x_teste) "
   ]
  },
  {
   "cell_type": "code",
   "execution_count": 31,
   "metadata": {},
   "outputs": [
    {
     "name": "stdout",
     "output_type": "stream",
     "text": [
      "Variância do Limite de empréstimo: 1971421.407702651\n"
     ]
    }
   ],
   "source": [
    "# Avaliar o modelo\n",
    "variance_Limite = np.var(y_teste)\n",
    "print(f'Variância do Limite de empréstimo: {variance_Limite}')\n",
    "\n"
   ]
  },
  {
   "cell_type": "code",
   "execution_count": 32,
   "metadata": {},
   "outputs": [
    {
     "name": "stdout",
     "output_type": "stream",
     "text": [
      "Variância dos  salários: 377248.5651248867\n"
     ]
    }
   ],
   "source": [
    "variance_Salario = np.var(x_teste)\n",
    "print(f'Variância dos  salários: {variance_Salario}')"
   ]
  },
  {
   "cell_type": "code",
   "execution_count": 41,
   "metadata": {},
   "outputs": [
    {
     "data": {
      "text/plain": [
       "0.9992569505276141"
      ]
     },
     "execution_count": 41,
     "metadata": {},
     "output_type": "execute_result"
    }
   ],
   "source": [
    "#calcula o quando as variaves se explicaram, muito proximo da correlação  \n",
    "# Mede o quanto o modelo de regressão linear explica a variação nos dados de entrada em relação à variável dependente (valor real\n",
    "Func_Regressao.score(x_treino,y_treino)\n"
   ]
  },
  {
   "cell_type": "code",
   "execution_count": 340,
   "metadata": {},
   "outputs": [
    {
     "name": "stdout",
     "output_type": "stream",
     "text": [
      "Mean Squared Error: 2956.803071813228\n",
      "RMSE(Mean Squared Error) 54.37649374328238\n",
      "R² Score: 0.9985001669048228\n"
     ]
    }
   ],
   "source": [
    "\n",
    "\n",
    "mse = mean_squared_error(y_teste, Previsoes)  #avalia se y_teste ficou proxim das previssões \n",
    "print(f'Mean Squared Error: {mse}')\n",
    "\n",
    "print ('RMSE(Mean Squared Error)',np.sqrt( metrics.mean_squared_error(y_teste,Previsoes))) #avalia se  o y_teste ficou proximo das previssões \n",
    "\n",
    "R2 = r2_score(y_teste, Previsoes)\n",
    "print(f'R² Score: {R2}')\n"
   ]
  },
  {
   "cell_type": "code",
   "execution_count": 233,
   "metadata": {},
   "outputs": [
    {
     "name": "stdout",
     "output_type": "stream",
     "text": [
      "Variância dos Valores Reais: 1971421.407702651\n"
     ]
    }
   ],
   "source": [
    "# Avaliar o modelo\n",
    "variance = np.var(y_teste)\n",
    "print(f'Variância dos Valores Reais: {variance}')"
   ]
  },
  {
   "cell_type": "code",
   "execution_count": 285,
   "metadata": {},
   "outputs": [
    {
     "name": "stdout",
     "output_type": "stream",
     "text": [
      "Coeficiente: [2.33066116]\n",
      "Intercepto: [-31.57800748]\n"
     ]
    }
   ],
   "source": [
    "# Exibindo os coeficientes e intercepto do modelo\n",
    "print('Coeficiente:', Func_Regressao.coef_[0])\n",
    "print('Intercepto:', Func_Regressao.intercept_)\n"
   ]
  },
  {
   "cell_type": "markdown",
   "metadata": {},
   "source": [
    "# RESULTADOS\n",
    "\n",
    "- **Variância de y_teste** indica a dispersão dos dados reais do limite de emprestimo.\n",
    "\n",
    "- **R² Score**: Um valor elevado de R² indica que o modelo consegue explicar a maior parte da variação dos limites de crédito com base no salário.\n",
    "\n",
    "- **MSE (Erro Quadrático Médio)** e **RMSE (Raiz do Erro Quadrático Médio)**: Esses valores estão relativamente baixos, o que sugere que os erros do modelo são pequenos, indicando uma boa capacidade do modelo em prever os valores com precisão.\n",
    "\n",
    "- **Coeficiente e Intercepto**: Os valores do coeficiente e do intercepto estão de acordo com a relação esperada entre o salário e o limite de crédito, o que confirma que o modelo capturou corretamente a tendência entre as duas variáveis.\n",
    "\n"
   ]
  },
  {
   "cell_type": "code",
   "execution_count": 303,
   "metadata": {},
   "outputs": [
    {
     "name": "stdout",
     "output_type": "stream",
     "text": [
      "Coluna: Salario\n",
      "Média: 2119.1005813894876\n",
      "Moda: 1250.21913\n",
      "Mediana: 2035.792243045518\n",
      "Desvio Padrão: 600.8329833362092\n",
      "----------------------------------------\n",
      "Coluna: Limite_Emprestimo\n",
      "Média: 4900.652059560774\n",
      "Moda: 3434.630087261334\n",
      "Mediana: 4722.412622682419\n",
      "Desvio Padrão: 1378.1139612151221\n",
      "----------------------------------------\n"
     ]
    }
   ],
   "source": [
    "for coluna in Dados.columns:\n",
    "    media = Dados[coluna].mean()\n",
    "    moda = Dados[coluna].mode()[0]\n",
    "    mediana = Dados[coluna].median()\n",
    "    desvio_padrao = Dados[coluna].std()  # Calculando o desvio padrão\n",
    "\n",
    "    print(f\"Coluna: {coluna}\")\n",
    "    print(f\"Média: {media}\")\n",
    "    print(f\"Moda: {moda}\")\n",
    "    print(f\"Mediana: {mediana}\")\n",
    "    print(f\"Desvio Padrão: {desvio_padrao}\")\n",
    "    print(\"-\" * 40)\n"
   ]
  },
  {
   "cell_type": "code",
   "execution_count": 331,
   "metadata": {},
   "outputs": [
    {
     "name": "stdout",
     "output_type": "stream",
     "text": [
      "Variância do Salário: 377248.5651248867\n",
      "Desvio Padrão do Salário: 614.205637490317\n"
     ]
    }
   ],
   "source": [
    "variance_salario = np.var(x_teste)\n",
    "print(f'Variância do Salário: {variance_salario}')\n",
    "desvio_padrao_salario = np.sqrt(variance_salario)\n",
    "print(f'Desvio Padrão do Salário: {desvio_padrao_salario}')"
   ]
  },
  {
   "cell_type": "code",
   "execution_count": 330,
   "metadata": {},
   "outputs": [
    {
     "name": "stdout",
     "output_type": "stream",
     "text": [
      "Variância de limite de empréstimo: 1971421.407702651\n",
      "Desvio Padrão do limite de empréstimo: 1404.0731489857112\n"
     ]
    }
   ],
   "source": [
    "# Avaliar o modelo\n",
    "variance_limite = np.var(y_teste)\n",
    "print(f'Variância de limite de empréstimo: {variance_limite}')\n",
    "desvio_padrao_limite = np.sqrt(variance_limite)\n",
    "print(f'Desvio Padrão do limite de empréstimo: {desvio_padrao_limite}')\n"
   ]
  },
  {
   "cell_type": "markdown",
   "metadata": {},
   "source": [
    "\n",
    "---\n",
    "### Outra forma de calcular\n",
    "### Cálculo do Desvio Padrão de limite_emprestimo\n",
    "\n",
    "O **desvio padrão** é a raiz quadrada da **variância**.\n",
    "\n",
    "#### Cálculo do Desvio Padrão:\n",
    "\n",
    "$$\n",
    "\\text{Desvio Padrão} = \\sqrt{\\text{Variância}} = \\sqrt{1971421.407702651} \\approx 1404.02\n",
    "$$\n",
    "\n",
    "Isso significa que, em média, os valores reais estão, aproximadamente, **1404.02 R$** afastados da média de **4900.65 R$**, ou seja, essa é a medida da dispersão dos valores em torno da média.\n",
    "\n",
    "---\n"
   ]
  },
  {
   "cell_type": "code",
   "execution_count": null,
   "metadata": {},
   "outputs": [],
   "source": [
    "#Definição dos resíduos\n",
    "residuos = y_teste - Previsoes"
   ]
  },
  {
   "cell_type": "code",
   "execution_count": null,
   "metadata": {},
   "outputs": [
    {
     "data": {
      "image/png": "[encoded data removed]",
      "text/plain": [
       "<Figure size 640x480 with 1 Axes>"
      ]
     },
     "metadata": {},
     "output_type": "display_data"
    }
   ],
   "source": [
    "\n",
    "# Gráfico de Resíduos\n",
    "plt.scatter(Previsoes, residuos)\n",
    "plt.hlines(0, xmin=min(Previsoes), xmax=max(Previsoes), colors='red')  # Linha horizontal em y=0\n",
    "plt.xlabel(\"Previsões\")\n",
    "plt.ylabel(\"Resíduos\")\n",
    "plt.title(\"Gráfico de Resíduos\")\n",
    "plt.show()"
   ]
  },
  {
   "cell_type": "code",
   "execution_count": 308,
   "metadata": {},
   "outputs": [
    {
     "data": {
      "image/png": "[encoded data removed]",
      "text/plain": [
       "<Figure size 640x480 with 1 Axes>"
      ]
     },
     "metadata": {},
     "output_type": "display_data"
    }
   ],
   "source": [
    "plt.hist(residuos, bins=20, edgecolor='black')\n",
    "plt.xlabel(\"Resíduos\")\n",
    "plt.ylabel(\"Frequência\")\n",
    "plt.title(\"Histograma dos Resíduos\")\n",
    "plt.show()\n"
   ]
  },
  {
   "cell_type": "markdown",
   "metadata": {},
   "source": [
    "### Resíduos do Modelo\n",
    "\n",
    "- **Resíduo** = Yreal - Yprevisto\n",
    "\n",
    "Em um modelo perfeito, todos os resíduos seriam iguais a **0**.\n",
    "\n",
    "### Gráfico de Resíduos\n",
    "\n",
    "O gráfico de resíduos é uma ferramenta importante para verificar se o modelo está adequado aos dados. Se o modelo estiver fazendo boas previsões, os resíduos devem ser:\n",
    "\n",
    "- Distribuídos **aleatoriamente** em torno de **zero**.\n",
    "- Sem padrões ou tendências visíveis, indicando que o modelo capturou adequadamente a relação entre as variáveis.\n",
    "\n",
    "Esse gráfico ajuda a identificar problemas como:\n",
    "- **Heterocedasticidade** (variação não constante dos resíduos).\n",
    "- **Padrões sistemáticos** nos erros de previsão."
   ]
  },
  {
   "cell_type": "code",
   "execution_count": 34,
   "metadata": {},
   "outputs": [
    {
     "data": {
      "image/png": "[encoded data removed]",
      "text/plain": [
       "<Figure size 1100x600 with 1 Axes>"
      ]
     },
     "metadata": {},
     "output_type": "display_data"
    }
   ],
   "source": [
    "plt.figure (figsize=(11,6))\n",
    "plt.scatter(x_treino, y_treino, label=\"Dados Reais\")\n",
    "plt.plot(x_teste, Previsoes, color='red', label=\"valores Preditos(Linha de Regressão)\")\n",
    "plt.xlabel(\"Salário\")\n",
    "plt.ylabel(\"Empréstimo\")\n",
    "plt.title(\"Relação entre Salário e Empréstimo com Linha de Regressão\")\n",
    "plt.legend()\n",
    "plt.grid(True)\n",
    "plt.show()             \n",
    "     #.plot é o gráfico de linha\n",
    "     #predict faz previssão de valores "
   ]
  },
  {
   "cell_type": "markdown",
   "metadata": {},
   "source": [
    "Previsões de limite com os seguintes salários: "
   ]
  },
  {
   "cell_type": "code",
   "execution_count": 35,
   "metadata": {},
   "outputs": [
    {
     "name": "stdout",
     "output_type": "stream",
     "text": [
      "R$ 4.163,61\n",
      "R$ 7.893,95\n",
      "R$ 18.172,17\n"
     ]
    }
   ],
   "source": [
    "import locale\n",
    "\n",
    "# Definir o local para o Brasil (onde usamos o ponto como separador de milhar)\n",
    "locale.setlocale(locale.LC_ALL, 'pt_BR.UTF-8')\n",
    "\n",
    "print(f'R$ {locale.format_string(\"%.2f\", Func_Regressao.predict([[1800]])[0][0], grouping=True)}')\n",
    "print(f'R$ {locale.format_string(\"%.2f\", Func_Regressao.predict([[3400.55]])[0][0], grouping=True)}')\n",
    "print(f'R$ {locale.format_string(\"%.2f\", Func_Regressao.predict([[7810.55]])[0][0], grouping=True)}')\n"
   ]
  }
 ],
 "metadata": {
  "kernelspec": {
   "display_name": "Python 3",
   "language": "python",
   "name": "python3"
  },
  "language_info": {
   "codemirror_mode": {
    "name": "ipython",
    "version": 3
   },
   "file_extension": ".py",
   "mimetype": "text/x-python",
   "name": "python",
   "nbconvert_exporter": "python",
   "pygments_lexer": "ipython3",
   "version": "3.13.2"
  }
 },
 "nbformat": 4,
 "nbformat_minor": 2
}
